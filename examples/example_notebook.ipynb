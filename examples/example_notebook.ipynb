{
 "cells": [
  {
   "cell_type": "code",
   "execution_count": 5,
   "id": "b0dabaed-58b3-454b-b4c9-02f66eb69958",
   "metadata": {},
   "outputs": [
    {
     "name": "stdout",
     "output_type": "stream",
     "text": [
      "Defaulting to user installation because normal site-packages is not writeable\n",
      "Obtaining file:///F:/PHD/gSELECT\n",
      "  Installing build dependencies: started\n",
      "  Installing build dependencies: finished with status 'done'\n",
      "  Checking if build backend supports build_editable: started\n",
      "  Checking if build backend supports build_editable: finished with status 'done'\n",
      "  Getting requirements to build editable: started\n",
      "  Getting requirements to build editable: finished with status 'done'\n",
      "  Preparing editable metadata (pyproject.toml): started\n",
      "  Preparing editable metadata (pyproject.toml): finished with status 'done'\n",
      "Requirement already satisfied: scanpy in c:\\users\\calis\\appdata\\roaming\\python\\python312\\site-packages (from gSELECT==0.1.0) (1.10.4)\n",
      "Requirement already satisfied: pandas in c:\\users\\calis\\appdata\\roaming\\python\\python312\\site-packages (from gSELECT==0.1.0) (2.2.3)\n",
      "Requirement already satisfied: numpy in c:\\users\\calis\\appdata\\roaming\\python\\python312\\site-packages (from gSELECT==0.1.0) (2.0.2)\n",
      "Requirement already satisfied: matplotlib in c:\\users\\calis\\appdata\\roaming\\python\\python312\\site-packages (from gSELECT==0.1.0) (3.10.0)\n",
      "Requirement already satisfied: scikit-learn in c:\\users\\calis\\appdata\\roaming\\python\\python312\\site-packages (from gSELECT==0.1.0) (1.6.1)\n",
      "Requirement already satisfied: polars in c:\\users\\calis\\appdata\\roaming\\python\\python312\\site-packages (from gSELECT==0.1.0) (1.20.0)\n",
      "Requirement already satisfied: contourpy>=1.0.1 in c:\\users\\calis\\appdata\\roaming\\python\\python312\\site-packages (from matplotlib->gSELECT==0.1.0) (1.3.1)\n",
      "Requirement already satisfied: cycler>=0.10 in c:\\users\\calis\\appdata\\roaming\\python\\python312\\site-packages (from matplotlib->gSELECT==0.1.0) (0.12.1)\n",
      "Requirement already satisfied: fonttools>=4.22.0 in c:\\users\\calis\\appdata\\roaming\\python\\python312\\site-packages (from matplotlib->gSELECT==0.1.0) (4.55.3)\n",
      "Requirement already satisfied: kiwisolver>=1.3.1 in c:\\users\\calis\\appdata\\roaming\\python\\python312\\site-packages (from matplotlib->gSELECT==0.1.0) (1.4.8)\n",
      "Requirement already satisfied: packaging>=20.0 in c:\\users\\calis\\appdata\\roaming\\python\\python312\\site-packages (from matplotlib->gSELECT==0.1.0) (24.2)\n",
      "Requirement already satisfied: pillow>=8 in c:\\users\\calis\\appdata\\roaming\\python\\python312\\site-packages (from matplotlib->gSELECT==0.1.0) (11.1.0)\n",
      "Requirement already satisfied: pyparsing>=2.3.1 in c:\\users\\calis\\appdata\\roaming\\python\\python312\\site-packages (from matplotlib->gSELECT==0.1.0) (3.2.1)\n",
      "Requirement already satisfied: python-dateutil>=2.7 in c:\\users\\calis\\appdata\\roaming\\python\\python312\\site-packages (from matplotlib->gSELECT==0.1.0) (2.9.0.post0)\n",
      "Requirement already satisfied: pytz>=2020.1 in c:\\users\\calis\\appdata\\roaming\\python\\python312\\site-packages (from pandas->gSELECT==0.1.0) (2024.2)\n",
      "Requirement already satisfied: tzdata>=2022.7 in c:\\users\\calis\\appdata\\roaming\\python\\python312\\site-packages (from pandas->gSELECT==0.1.0) (2024.2)\n",
      "Requirement already satisfied: anndata>=0.8 in c:\\users\\calis\\appdata\\roaming\\python\\python312\\site-packages (from scanpy->gSELECT==0.1.0) (0.11.3)\n",
      "Requirement already satisfied: h5py>=3.6 in c:\\users\\calis\\appdata\\roaming\\python\\python312\\site-packages (from scanpy->gSELECT==0.1.0) (3.12.1)\n",
      "Requirement already satisfied: joblib in c:\\users\\calis\\appdata\\roaming\\python\\python312\\site-packages (from scanpy->gSELECT==0.1.0) (1.4.2)\n",
      "Requirement already satisfied: legacy-api-wrap>=1.4 in c:\\users\\calis\\appdata\\roaming\\python\\python312\\site-packages (from scanpy->gSELECT==0.1.0) (1.4.1)\n",
      "Requirement already satisfied: natsort in c:\\users\\calis\\appdata\\roaming\\python\\python312\\site-packages (from scanpy->gSELECT==0.1.0) (8.4.0)\n",
      "Requirement already satisfied: networkx>=2.7 in c:\\users\\calis\\appdata\\roaming\\python\\python312\\site-packages (from scanpy->gSELECT==0.1.0) (3.4.2)\n",
      "Requirement already satisfied: numba>=0.56 in c:\\users\\calis\\appdata\\roaming\\python\\python312\\site-packages (from scanpy->gSELECT==0.1.0) (0.60.0)\n",
      "Requirement already satisfied: patsy!=1.0.0 in c:\\users\\calis\\appdata\\roaming\\python\\python312\\site-packages (from scanpy->gSELECT==0.1.0) (1.0.1)\n",
      "Requirement already satisfied: pynndescent>=0.5 in c:\\users\\calis\\appdata\\roaming\\python\\python312\\site-packages (from scanpy->gSELECT==0.1.0) (0.5.13)\n",
      "Requirement already satisfied: scipy>=1.8 in c:\\users\\calis\\appdata\\roaming\\python\\python312\\site-packages (from scanpy->gSELECT==0.1.0) (1.15.1)\n",
      "Requirement already satisfied: seaborn>=0.13 in c:\\users\\calis\\appdata\\roaming\\python\\python312\\site-packages (from scanpy->gSELECT==0.1.0) (0.13.2)\n",
      "Requirement already satisfied: session-info in c:\\users\\calis\\appdata\\roaming\\python\\python312\\site-packages (from scanpy->gSELECT==0.1.0) (1.0.0)\n",
      "Requirement already satisfied: statsmodels>=0.13 in c:\\users\\calis\\appdata\\roaming\\python\\python312\\site-packages (from scanpy->gSELECT==0.1.0) (0.14.4)\n",
      "Requirement already satisfied: tqdm in c:\\users\\calis\\appdata\\roaming\\python\\python312\\site-packages (from scanpy->gSELECT==0.1.0) (4.67.1)\n",
      "Requirement already satisfied: umap-learn!=0.5.0,>=0.5 in c:\\users\\calis\\appdata\\roaming\\python\\python312\\site-packages (from scanpy->gSELECT==0.1.0) (0.5.7)\n",
      "Requirement already satisfied: threadpoolctl>=3.1.0 in c:\\users\\calis\\appdata\\roaming\\python\\python312\\site-packages (from scikit-learn->gSELECT==0.1.0) (3.5.0)\n",
      "Requirement already satisfied: array-api-compat!=1.5,>1.4 in c:\\users\\calis\\appdata\\roaming\\python\\python312\\site-packages (from anndata>=0.8->scanpy->gSELECT==0.1.0) (1.10.0)\n",
      "Requirement already satisfied: llvmlite<0.44,>=0.43.0dev0 in c:\\users\\calis\\appdata\\roaming\\python\\python312\\site-packages (from numba>=0.56->scanpy->gSELECT==0.1.0) (0.43.0)\n",
      "Requirement already satisfied: six>=1.5 in c:\\users\\calis\\appdata\\roaming\\python\\python312\\site-packages (from python-dateutil>=2.7->matplotlib->gSELECT==0.1.0) (1.17.0)\n",
      "Requirement already satisfied: stdlib_list in c:\\users\\calis\\appdata\\roaming\\python\\python312\\site-packages (from session-info->scanpy->gSELECT==0.1.0) (0.11.0)\n",
      "Requirement already satisfied: colorama in c:\\users\\calis\\appdata\\roaming\\python\\python312\\site-packages (from tqdm->scanpy->gSELECT==0.1.0) (0.4.6)\n",
      "Building wheels for collected packages: gSELECT\n",
      "  Building editable for gSELECT (pyproject.toml): started\n",
      "  Building editable for gSELECT (pyproject.toml): finished with status 'done'\n",
      "  Created wheel for gSELECT: filename=gselect-0.1.0-0.editable-py3-none-any.whl size=3179 sha256=9ee12278622963061e2d28cb8899438f6598dcc875783b20f2bc1d59e70ca5e0\n",
      "  Stored in directory: C:\\Users\\Calis\\AppData\\Local\\Temp\\pip-ephem-wheel-cache-fl1pe_h_\\wheels\\8c\\5c\\60\\08efa27616d2e86b765ae77b7f28b865e4b392baff83538334\n",
      "Successfully built gSELECT\n",
      "Installing collected packages: gSELECT\n",
      "  Attempting uninstall: gSELECT\n",
      "    Found existing installation: gSELECT 0.1.0\n",
      "    Uninstalling gSELECT-0.1.0:\n",
      "      Successfully uninstalled gSELECT-0.1.0\n",
      "Successfully installed gSELECT-0.1.0\n",
      "Note: you may need to restart the kernel to use updated packages.\n"
     ]
    },
    {
     "name": "stderr",
     "output_type": "stream",
     "text": [
      "\n",
      "[notice] A new release of pip is available: 23.2.1 -> 25.0.1\n",
      "[notice] To update, run: python.exe -m pip install --upgrade pip\n"
     ]
    }
   ],
   "source": [
    "pip install -e ../."
   ]
  },
  {
   "cell_type": "code",
   "execution_count": 6,
   "id": "499f9350-1639-4184-82c3-b416e15aaeb0",
   "metadata": {},
   "outputs": [],
   "source": [
    "import gSELECT.io as gsio\n",
    "import gSELECT.feature_selection as gsfs\n",
    "import gSELECT.classification as gsc\n",
    "import gSELECT.visualization as gsv"
   ]
  },
  {
   "cell_type": "code",
   "execution_count": null,
   "id": "e36f02d1",
   "metadata": {},
   "outputs": [],
   "source": [
    "filepath = \"your/path/here\"\n",
    "output_path = \"output\"\n",
    "filter_column = \"your_filtercolumn\"\n",
    "filter_values=['value_zero', 'value_one']"
   ]
  },
  {
   "cell_type": "code",
   "execution_count": null,
   "id": "5e43e9ec",
   "metadata": {},
   "outputs": [],
   "source": [
    "gsio.explore_h5ad(filepath)"
   ]
  },
  {
   "cell_type": "code",
   "execution_count": null,
   "id": "fade4068",
   "metadata": {},
   "outputs": [],
   "source": [
    "genes,data = gsio.load_h5ad(filepath,filter_column=filter_column, filter_values=filter_values)"
   ]
  },
  {
   "cell_type": "code",
   "execution_count": null,
   "id": "495965cb",
   "metadata": {},
   "outputs": [],
   "source": [
    "exclusion_list = [\n",
    "    \"example_gene\"\n",
    "]\n",
    "mutual_info = gsfs.compute_mutual_information(genes, data, output_folder=output_path,exclusion_list=exclusion_list)"
   ]
  },
  {
   "cell_type": "code",
   "execution_count": null,
   "id": "f831b066",
   "metadata": {},
   "outputs": [],
   "source": [
    "results = gsc.run_selected_genes(data, mutual_info, number_sweeps=3, top_n_genes=5)\n",
    "gsv.plot_results(results, output_path)"
   ]
  },
  {
   "cell_type": "code",
   "execution_count": null,
   "id": "84c78f53",
   "metadata": {},
   "outputs": [],
   "source": [
    "gene_selection=[1,2,5,10,100]\n",
    "results = gsc.run_multiple_gene_selections(data, mutual_info, number_sweeps=3, gene_selection=gene_selection)\n",
    "gsv.plot_multiple_gene_selections(results)"
   ]
  },
  {
   "cell_type": "code",
   "execution_count": null,
   "id": "eb89d497",
   "metadata": {},
   "outputs": [],
   "source": [
    "gene_list = [\"gene\"] # all genes have to exist in the data set\n",
    "results = gsc.run_with_custom_gene_set(data, gene_list, mutual_info, number_sweeps=3)\n",
    "gsv.plot_results(results, output_path)"
   ]
  },
  {
   "cell_type": "code",
   "execution_count": null,
   "id": "ba6335ae",
   "metadata": {},
   "outputs": [],
   "source": [
    "results = gsc.run_explorative_gene_selections(data, mutual_info, number_sweeps=2, top_n_genes=5)\n",
    "gsv.plot_explorative_gene_selections(results, output_folder=output_path)"
   ]
  },
  {
   "cell_type": "code",
   "execution_count": null,
   "id": "9d23d6aa",
   "metadata": {},
   "outputs": [],
   "source": [
    "gene_list = [\"gene\"] # all genes have to exist in the data set\n",
    "results = gsc.run_explorative_gene_selections_with_custom_set(data, gene_list, mutual_info, number_sweeps=2)\n",
    "gsv.plot_explorative_gene_selections(results, top_n=10, output_folder=output_path)"
   ]
  },
  {
   "cell_type": "code",
   "execution_count": null,
   "id": "b170b21f",
   "metadata": {},
   "outputs": [],
   "source": [
    "results = gsc.run_all_genes(data, mutual_info, number_sweeps=3)\n",
    "gsv.plot_results(results, output_path)"
   ]
  }
 ],
 "metadata": {
  "kernelspec": {
   "display_name": "Python 3",
   "language": "python",
   "name": "python3"
  },
  "language_info": {
   "codemirror_mode": {
    "name": "ipython",
    "version": 3
   },
   "file_extension": ".py",
   "mimetype": "text/x-python",
   "name": "python",
   "nbconvert_exporter": "python",
   "pygments_lexer": "ipython3",
   "version": "3.12.0"
  }
 },
 "nbformat": 4,
 "nbformat_minor": 5
}
