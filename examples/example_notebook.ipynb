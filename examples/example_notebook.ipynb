{
 "cells": [
  {
   "cell_type": "code",
   "execution_count": null,
   "id": "b0dabaed-58b3-454b-b4c9-02f66eb69958",
   "metadata": {},
   "outputs": [],
   "source": [
    "pip install -e ../."
   ]
  },
  {
   "cell_type": "code",
   "execution_count": null,
   "id": "499f9350-1639-4184-82c3-b416e15aaeb0",
   "metadata": {},
   "outputs": [],
   "source": [
    "import gSELECT.io as gsio\n",
    "import gSELECT.feature_selection as gsfs\n",
    "import gSELECT.classification as gsc\n",
    "import gSELECT.visualization as gsv"
   ]
  },
  {
   "cell_type": "code",
   "execution_count": null,
   "id": "a5a83aff-b12b-411c-985b-53c0853eb313",
   "metadata": {},
   "outputs": [],
   "source": [
    "filepath = \"your/path/here\"\n",
    "output_path = \"output\""
   ]
  },
  {
   "cell_type": "markdown",
   "id": "7bad372b-656c-4ae3-9cb7-d804ebf3adf9",
   "metadata": {},
   "source": [
    "## Explore the Dataset\n",
    "\n",
    "Use `explore_h5ad()` to preview the structure of your input file. This helps you choose filters or column names."
   ]
  },
  {
   "cell_type": "code",
   "execution_count": null,
   "id": "a38e404a-9f09-49de-8bdb-ef807b76f5b8",
   "metadata": {},
   "outputs": [],
   "source": [
    "gsio.explore_h5ad(filepath)"
   ]
  },
  {
   "cell_type": "markdown",
   "id": "50d37b0b-1e0d-4652-82c9-baa3a9d7d1f0",
   "metadata": {},
   "source": [
    "## Load Gene Expression Data\n",
    "\n",
    "You can load data in one of two ways:\n",
    "\n",
    "---\n",
    "\n",
    "### Option 1: Load from `.h5ad` (AnnData)\n",
    "\n",
    "Use this when working with `.h5ad` files, which often contain metadata like cell types or experimental conditions.\n",
    "\n",
    "To load only a subset of the data (e.g., a specific tissue or condition), you must specify:\n",
    "\n",
    "- `filter_column`: the column in `.obs` to filter by (e.g., `\"cell_type\"`).\n",
    "- `filter_values`: the values within that column to keep (e.g., `[\"T cells\", \"B cells\"]`).\n",
    "\n",
    "```python\n",
    "filter_column = \"your_filtercolumn\"  # e.g., \"cell_type\"\n",
    "filter_values = ['value_zero', 'value_one']\n",
    "\n",
    "genes, data = gsio.load_h5ad(\n",
    "    filepath,\n",
    "    filter_column=filter_column,\n",
    "    filter_values=filter_values\n",
    ")\n"
   ]
  },
  {
   "cell_type": "code",
   "execution_count": null,
   "id": "e36f02d1",
   "metadata": {},
   "outputs": [],
   "source": [
    "filter_column = \"your_filtercolumn\"\n",
    "filter_values=['value_zero', 'value_one']\n",
    "\n",
    "genes,data = gsio.load_h5ad(filepath,filter_column=filter_column, filter_values=filter_values)"
   ]
  },
  {
   "cell_type": "markdown",
   "id": "b9c526ee-e527-45f7-89c9-19ca83bf127f",
   "metadata": {},
   "source": [
    "### Option 2: Load from CSV\n",
    "No filtering required — just provide the file path."
   ]
  },
  {
   "cell_type": "code",
   "execution_count": null,
   "id": "dd782f17-d0db-46fa-a73e-9069ec299998",
   "metadata": {},
   "outputs": [],
   "source": [
    "genes,data = gsio.load(filepath)"
   ]
  },
  {
   "cell_type": "markdown",
   "id": "b4d167a9-c627-4d16-9633-2550b69ba6b3",
   "metadata": {},
   "source": [
    "## Optional: Create a Final Hold-Out Test Set\n",
    "\n",
    "This step is optional to prevent information leakage and avoid circularity in the analysis.\n",
    "\n",
    "- The dataset is first transposed so that **samples are rows** and **genes are columns**.\n",
    "- 80% of the samples are randomly selected as the **training set**.\n",
    "- The remaining 20% are set aside as a **final test set**, which will not be used during mutual information (MI) calculation, gene selection, or model training.\n",
    "- Both sets are then transposed back to the original format (**samples × genes**).\n",
    "\n",
    "Why take this extra step?\n",
    "\n",
    "By removing the test set before computing mutual information and training the model, you ensure that no information from those samples influences feature selection or model development. This eliminates circularity and enables an unbiased final evaluation of model performance.\n",
    "\n",
    "Only the training data should be used for mutual information scoring, gene selection, and training. The final test data should be reserved exclusively for the last evaluation step.\n"
   ]
  },
  {
   "cell_type": "code",
   "execution_count": null,
   "id": "b886907c-a6b6-4758-95bd-a35dd45d883a",
   "metadata": {},
   "outputs": [],
   "source": [
    "data_total = data.transpose()\n",
    "training_data = data_total.sample(frac=0.8)\n",
    "test_data = data_total.drop(training_data.index)\n",
    "training_data = training_data.transpose()\n",
    "test_data = test_data.transpose()"
   ]
  },
  {
   "cell_type": "markdown",
   "id": "3e78830d-a0e4-4d9d-874a-7ec285dc0e71",
   "metadata": {},
   "source": [
    "## Compute Mutual Information Scores\n",
    "\n",
    "This step calculates **mutual information (MI)** between each gene and the class labels in the training data.  \n",
    "The MI score reflects how informative each gene is for distinguishing between classes and will be used to rank genes for classification.\n",
    "\n",
    "You can also provide an **optional exclusion list** of genes (e.g., housekeeping or control genes) that you want to exclude from evaluation and ranking."
   ]
  },
  {
   "cell_type": "code",
   "execution_count": null,
   "id": "495965cb",
   "metadata": {},
   "outputs": [],
   "source": [
    "exclusion_list = [\n",
    "    \"example_gene\"\n",
    "]\n",
    "mutual_info = gsfs.compute_mutual_information(genes, training_data, output_folder=output_path,exclusion_list=exclusion_list)"
   ]
  },
  {
   "cell_type": "markdown",
   "id": "e556d8c9-52df-419f-a394-01d5ef2bf76c",
   "metadata": {},
   "source": [
    "## Classification Step – Running MLP-based Gene Expression Classifiers\n",
    "\n",
    "This section runs the core classification logic using a **Multilayer Perceptron (MLP)** neural network. The classifier is trained using different gene selection strategies and evaluated across multiple randomized sweeps to assess stability and generalization.\n",
    "\n",
    "You can control various modes of operation through the provided functions:\n",
    "\n",
    "---\n",
    "\n",
    "### Main Options\n",
    "\n",
    "- **Number of sweeps**: Run repeated training/evaluation cycles to get stable performance estimates (default = 10).\n",
    "- **Test mode**:\n",
    "  - Provide an explicit `test_data`, *or*\n",
    "  - Let the code auto-split training data into train/test splits internally (used when `test_data is None` or in specific sweeps).\n",
    "- **Gene selection mode**:\n",
    "  - `0`: Use the selected gene list directly.\n",
    "  - `1`: Random genes (same size as selected list, used for baseline comparison).\n",
    "  - `2`: All non-constant genes (automatically selected).\n",
    "\n",
    "---\n",
    "\n",
    "### Functional Entry Points\n",
    "\n",
    "- `run_selected_genes`: Use top `N` ranked genes based on mutual information.\n",
    "- `run_multiple_gene_selections`: Evaluate performance across multiple gene counts (e.g. [1, 2, 5, 10, 100]).\n",
    "- `run_with_custom_gene_set`: Run classification with a user-defined list of gene names.\n",
    "- `run_explorative_gene_selections`: Automatically evaluate all combinations of the top `N` genes (uses exhaustive or greedy search depending on size).\n",
    "- `run_explorative_gene_selections_with_custom_set`: Same as above, but restricted to a custom set of genes.\n",
    "- `run_all_genes`: Uses **all non-constant genes** for classification (can be used as an upper-bound or reference model).\n",
    "\n",
    "---\n",
    "\n",
    "### Outputs\n",
    "\n",
    "Each function returns a collection of results:\n",
    "- **Test accuracy** (balanced)\n",
    "- **Train accuracy**\n",
    "- **Gene selection mode**\n",
    "- **Number of misclassified test samples**\n",
    "\n",
    "These outputs can be passed directly to the `gsv.plot_results()` or `gsv.plot_explorative_gene_selections()` functions for visualization and comparison.\n",
    "\n",
    "---\n",
    "\n",
    "### Note\n",
    "Make sure that the mutual information scores and gene indices passed to these functions are consistent with your data matrix format (`genes × cells`).\n"
   ]
  },
  {
   "cell_type": "code",
   "execution_count": null,
   "id": "f831b066",
   "metadata": {},
   "outputs": [],
   "source": [
    "results = gsc.run_selected_genes(training_data, mutual_info, test_data=test_data, number_sweeps=10, top_n_genes=5)\n",
    "gsv.plot_results(results, output_path)"
   ]
  },
  {
   "cell_type": "code",
   "execution_count": null,
   "id": "84c78f53",
   "metadata": {},
   "outputs": [],
   "source": [
    "gene_selection=[1,2,5,10,100]\n",
    "results = gsc.run_multiple_gene_selections(training_data, mutual_info, test_data=test_data, number_sweeps=3, gene_selection=gene_selection)\n",
    "gsv.plot_multiple_gene_selections(results)"
   ]
  },
  {
   "cell_type": "code",
   "execution_count": null,
   "id": "eb89d497",
   "metadata": {},
   "outputs": [],
   "source": [
    "gene_list = [\"gene1\", \"gene2\", \"gene3\"] # all genes have to exist in the data set\n",
    "results = gsc.run_with_custom_gene_set(training_data, gene_list, mutual_info, test_data=test_data, number_sweeps=10)\n",
    "gsv.plot_results(results, output_path)"
   ]
  },
  {
   "cell_type": "code",
   "execution_count": null,
   "id": "ba6335ae",
   "metadata": {},
   "outputs": [],
   "source": [
    "results = gsc.run_explorative_gene_selections(training_data, mutual_info, test_data=test_data, number_sweeps=2, top_n_genes=11)\n",
    "gsv.plot_explorative_gene_selections(results, output_folder=output_path)"
   ]
  },
  {
   "cell_type": "code",
   "execution_count": null,
   "id": "9d23d6aa",
   "metadata": {},
   "outputs": [],
   "source": [
    "gene_list = [\"gene1\", \"gene2\"] # all genes have to exist in the data set\n",
    "results = gsc.run_explorative_gene_selections_with_custom_set(training_data, gene_list, mutual_info, test_data=test_data, number_sweeps=2)\n",
    "gsv.plot_explorative_gene_selections(results, top_n=10, output_folder=output_path)"
   ]
  },
  {
   "cell_type": "code",
   "execution_count": null,
   "id": "b170b21f",
   "metadata": {},
   "outputs": [],
   "source": [
    "results = gsc.run_all_genes(training_data, mutual_info, test_data=test_data, number_sweeps=3)\n",
    "gsv.plot_results(results, output_path)"
   ]
  }
 ],
 "metadata": {
  "kernelspec": {
   "display_name": "Python 3 (ipykernel)",
   "language": "python",
   "name": "python3"
  },
  "language_info": {
   "codemirror_mode": {
    "name": "ipython",
    "version": 3
   },
   "file_extension": ".py",
   "mimetype": "text/x-python",
   "name": "python",
   "nbconvert_exporter": "python",
   "pygments_lexer": "ipython3",
   "version": "3.12.0"
  }
 },
 "nbformat": 4,
 "nbformat_minor": 5
}
